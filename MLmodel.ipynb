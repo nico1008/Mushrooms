{
 "cells": [
  {
   "cell_type": "markdown",
   "metadata": {},
   "source": [
    "## ML model for mushroom classification "
   ]
  },
  {
   "cell_type": "code",
   "execution_count": 1,
   "metadata": {},
   "outputs": [],
   "source": [
    "import torch\n",
    "import pandas as pd \n",
    "from sklearn.preprocessing import LabelEncoder \n",
    "from sklearn.model_selection import train_test_split\n",
    "from torch.utils.data import DataLoader, TensorDataset\n",
    "import torch.nn as nn\n",
    "import torch.optim as optim\n",
    "\n",
    "from MushroomClassifier import MushroomClassifier"
   ]
  },
  {
   "cell_type": "code",
   "execution_count": 2,
   "metadata": {},
   "outputs": [],
   "source": [
    "mushrooms = pd.read_csv('./mushrooms.csv')"
   ]
  },
  {
   "cell_type": "code",
   "execution_count": 3,
   "metadata": {},
   "outputs": [],
   "source": [
    "X = pd.DataFrame()\n",
    "\n",
    "for col in mushrooms.columns:\n",
    "    if col != 'class': \n",
    "        X[col] = LabelEncoder().fit_transform(mushrooms[col])\n",
    "\n",
    "y = LabelEncoder().fit_transform(mushrooms['class'])"
   ]
  },
  {
   "cell_type": "code",
   "execution_count": 4,
   "metadata": {},
   "outputs": [],
   "source": [
    "X = torch.tensor(X.values, dtype=torch.float32)\n",
    "y = torch.tensor(y, dtype=torch.long)"
   ]
  },
  {
   "cell_type": "code",
   "execution_count": 5,
   "metadata": {},
   "outputs": [],
   "source": [
    "X_train, X_test, y_train, y_test = train_test_split(X, y, test_size=0.2, random_state=42)"
   ]
  },
  {
   "cell_type": "code",
   "execution_count": 6,
   "metadata": {},
   "outputs": [],
   "source": [
    "train_dataset = TensorDataset(X_train, y_train)\n",
    "test_dataset = TensorDataset(X_test, y_test)\n",
    "\n",
    "train_loader = DataLoader(train_dataset, batch_size=32, shuffle=True)\n",
    "test_loader = DataLoader(test_dataset, batch_size=32, shuffle=False)"
   ]
  },
  {
   "cell_type": "code",
   "execution_count": 7,
   "metadata": {},
   "outputs": [],
   "source": [
    "input_dim = X.shape[1]\n",
    "hidden_dim = 16\n",
    "output_dim = 2\n",
    "num_epochs = 50\n",
    "learning_rate = 0.001"
   ]
  },
  {
   "cell_type": "code",
   "execution_count": 8,
   "metadata": {},
   "outputs": [],
   "source": [
    "model = MushroomClassifier(input_dim, hidden_dim, output_dim)\n",
    "criterion = nn.CrossEntropyLoss()\n",
    "optimizer = optim.Adam(model.parameters(), lr=learning_rate)"
   ]
  },
  {
   "cell_type": "code",
   "execution_count": 9,
   "metadata": {},
   "outputs": [
    {
     "name": "stdout",
     "output_type": "stream",
     "text": [
      "Epoch [1/50], Loss: 0.4686\n",
      "Epoch [2/50], Loss: 0.9178\n",
      "Epoch [3/50], Loss: 0.0335\n",
      "Epoch [4/50], Loss: 0.1762\n",
      "Epoch [5/50], Loss: 0.1239\n",
      "Epoch [6/50], Loss: 0.0198\n",
      "Epoch [7/50], Loss: 0.2878\n",
      "Epoch [8/50], Loss: 0.0401\n",
      "Epoch [9/50], Loss: 0.0065\n",
      "Epoch [10/50], Loss: 0.0225\n",
      "Epoch [11/50], Loss: 0.0367\n",
      "Epoch [12/50], Loss: 0.0317\n",
      "Epoch [13/50], Loss: 0.3176\n",
      "Epoch [14/50], Loss: 0.0015\n",
      "Epoch [15/50], Loss: 0.0175\n",
      "Epoch [16/50], Loss: 0.0620\n",
      "Epoch [17/50], Loss: 0.0071\n",
      "Epoch [18/50], Loss: 0.0223\n",
      "Epoch [19/50], Loss: 0.0033\n",
      "Epoch [20/50], Loss: 0.0018\n",
      "Epoch [21/50], Loss: 0.4393\n",
      "Epoch [22/50], Loss: 0.0080\n",
      "Epoch [23/50], Loss: 0.0058\n",
      "Epoch [24/50], Loss: 0.0017\n",
      "Epoch [25/50], Loss: 0.0084\n",
      "Epoch [26/50], Loss: 0.0102\n",
      "Epoch [27/50], Loss: 0.0013\n",
      "Epoch [28/50], Loss: 0.0016\n",
      "Epoch [29/50], Loss: 0.0056\n",
      "Epoch [30/50], Loss: 0.0002\n",
      "Epoch [31/50], Loss: 0.0087\n",
      "Epoch [32/50], Loss: 0.0026\n",
      "Epoch [33/50], Loss: 0.0117\n",
      "Epoch [34/50], Loss: 0.0003\n",
      "Epoch [35/50], Loss: 0.0001\n",
      "Epoch [36/50], Loss: 0.0004\n",
      "Epoch [37/50], Loss: 0.0001\n",
      "Epoch [38/50], Loss: 0.0000\n",
      "Epoch [39/50], Loss: 0.0021\n",
      "Epoch [40/50], Loss: 0.0116\n",
      "Epoch [41/50], Loss: 0.0001\n",
      "Epoch [42/50], Loss: 0.0006\n",
      "Epoch [43/50], Loss: 0.0023\n",
      "Epoch [44/50], Loss: 0.0000\n",
      "Epoch [45/50], Loss: 0.0000\n",
      "Epoch [46/50], Loss: 0.0001\n",
      "Epoch [47/50], Loss: 0.0010\n",
      "Epoch [48/50], Loss: 0.0002\n",
      "Epoch [49/50], Loss: 0.0001\n",
      "Epoch [50/50], Loss: 0.0002\n"
     ]
    }
   ],
   "source": [
    "for epoch in range(num_epochs):\n",
    "    for X_batch, y_batch in train_loader:\n",
    "        \n",
    "        outputs = model(X_batch)\n",
    "        loss = criterion(outputs, y_batch)\n",
    "        \n",
    "        optimizer.zero_grad()\n",
    "        loss.backward()\n",
    "        optimizer.step()\n",
    "    \n",
    "    print(f'Epoch [{epoch+1}/{num_epochs}], Loss: {loss.item():.4f}')"
   ]
  },
  {
   "cell_type": "code",
   "execution_count": 10,
   "metadata": {},
   "outputs": [
    {
     "name": "stdout",
     "output_type": "stream",
     "text": [
      "Accuracy of the model on the test set: 100.00%\n"
     ]
    }
   ],
   "source": [
    "model.eval()\n",
    "with torch.no_grad():\n",
    "    correct = 0\n",
    "    total = 0\n",
    "    for X_batch, y_batch in test_loader:\n",
    "        outputs = model(X_batch)\n",
    "        _, predicted = torch.max(outputs.data, 1)\n",
    "        total += y_batch.size(0)\n",
    "        correct += (predicted == y_batch).sum().item()\n",
    "    \n",
    "    print(f'Accuracy of the model on the test set: {100 * correct / total:.2f}%')"
   ]
  }
 ],
 "metadata": {
  "kernelspec": {
   "display_name": "Python 3",
   "language": "python",
   "name": "python3"
  },
  "language_info": {
   "codemirror_mode": {
    "name": "ipython",
    "version": 3
   },
   "file_extension": ".py",
   "mimetype": "text/x-python",
   "name": "python",
   "nbconvert_exporter": "python",
   "pygments_lexer": "ipython3",
   "version": "3.11.7"
  }
 },
 "nbformat": 4,
 "nbformat_minor": 2
}
